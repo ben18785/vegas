{
 "cells": [
  {
   "cell_type": "code",
   "execution_count": 94,
   "metadata": {},
   "outputs": [],
   "source": [
    "import vegas\n",
    "import numpy as np"
   ]
  },
  {
   "cell_type": "markdown",
   "metadata": {},
   "source": [
    "## One-dimensional Gaussian integral"
   ]
  },
  {
   "cell_type": "markdown",
   "metadata": {},
   "source": [
    "First using uniform sampling."
   ]
  },
  {
   "cell_type": "code",
   "execution_count": 107,
   "metadata": {},
   "outputs": [
    {
     "name": "stdout",
     "output_type": "stream",
     "text": [
      "intial grid:\n",
      "    grid[ 0] = [-10.  -6.  -2.   2.   6.  10.]\n",
      "\n",
      "iteration 0:\n",
      "    grid[ 0] = [-10.  -6.  -2.   2.   6.  10.]\n",
      "\n",
      "iteration 1:\n",
      "    grid[ 0] = [-10.  -6.  -2.   2.   6.  10.]\n",
      "\n",
      "iteration 2:\n",
      "    grid[ 0] = [-10.  -6.  -2.   2.   6.  10.]\n",
      "\n",
      "iteration 3:\n",
      "    grid[ 0] = [-10.  -6.  -2.   2.   6.  10.]\n",
      "\n",
      "iteration 4:\n",
      "    grid[ 0] = [-10.  -6.  -2.   2.   6.  10.]\n",
      "\n",
      "itn   integral        wgt average     chi2/dof        Q\n",
      "-------------------------------------------------------\n",
      "  1   0(0)            0(0)                0.00     1.00\n",
      "  2   0(0)            0(0)                0.00     1.00\n",
      "  3   0(0)            0(0)                0.00     1.00\n",
      "  4   0(0)            0(0)                0.00     1.00\n",
      "  5   0(0)            0(0)                0.00     1.00\n",
      "  6   0(0)            0(0)                0.00     1.00\n",
      "  7   0(0)            0(0)                0.00     1.00\n",
      "  8   0(0)            0(0)                0.00     1.00\n",
      "  9   0(0)            0(0)                0.00     1.00\n",
      " 10   0(0)            0(0)                0.00     1.00\n",
      "\n"
     ]
    }
   ],
   "source": [
    "import scipy.stats\n",
    "\n",
    "def f(x):\n",
    "   return scipy.stats.norm.pdf(x, 0, 0.0001)\n",
    "\n",
    "m = vegas.AdaptiveMap([[-10, 10]], ninc=5)\n",
    "\n",
    "ny = 1000\n",
    "y = np.random.uniform(0., 1., (ny,1))  # 1000 random y's\n",
    "\n",
    "x = np.empty(y.shape, float)            # work space\n",
    "jac = np.empty(y.shape[0], float)\n",
    "f2 = np.empty(y.shape[0], float)\n",
    "\n",
    "print('intial grid:')\n",
    "print(m.settings())\n",
    "\n",
    "for itn in range(5):                    # 5 iterations to adapt\n",
    "   m.map(y, x, jac)                     # compute x's and jac\n",
    "\n",
    "   for j in range(ny):                  # compute training data\n",
    "      f2[j] = (jac[j] * f(x[j])) ** 2\n",
    "\n",
    "   m.add_training_data(y, f2)           # adapt\n",
    "   m.adapt(alpha=1.5)\n",
    "\n",
    "   print('iteration %d:' % itn)\n",
    "   print(m.settings())\n",
    "\n",
    "integ = vegas.Integrator(m)\n",
    "\n",
    "result = integ(f, nitn=10, neval=1000)\n",
    "print(result.summary())"
   ]
  },
  {
   "cell_type": "markdown",
   "metadata": {},
   "source": [
    "Trying the same but with Gaussian samples."
   ]
  },
  {
   "cell_type": "code",
   "execution_count": 112,
   "metadata": {},
   "outputs": [
    {
     "name": "stdout",
     "output_type": "stream",
     "text": [
      "intial grid:\n",
      "    grid[ 0] = [-10.  -6.  -2.   2.   6.  10.]\n",
      "\n",
      "iteration 0:\n",
      "    grid[ 0] = [-10.     -2.026  -0.67    0.67    2.026  10.   ]\n",
      "\n",
      "iteration 1:\n",
      "    grid[ 0] = [-10.     -0.679  -0.224   0.224   0.679  10.   ]\n",
      "\n",
      "iteration 2:\n",
      "    grid[ 0] = [-10.     -0.227  -0.075   0.075   0.227  10.   ]\n",
      "\n",
      "iteration 3:\n",
      "    grid[ 0] = [-10.     -0.076  -0.025   0.025   0.076  10.   ]\n",
      "\n",
      "iteration 4:\n",
      "    grid[ 0] = [-1.000e+01 -2.547e-02 -8.414e-03  8.414e-03  2.547e-02\n",
      "                 1.000e+01]\n",
      "\n",
      "itn   integral        wgt average     chi2/dof        Q\n",
      "-------------------------------------------------------\n",
      "  1   0.63(60)        0.63(60)            0.00     1.00\n",
      "  2   0.9853(74)      0.9853(74)          0.35     0.55\n",
      "  3   0.99997(85)     0.99978(84)         2.13     0.12\n",
      "  4   1.00052(37)     1.00039(34)         1.63     0.18\n",
      "  5   1.00045(33)     1.00042(24)         1.23     0.30\n",
      "  6   0.99978(36)     1.00023(20)         1.42     0.21\n",
      "  7   0.99930(35)     1.00000(17)         2.09     0.05\n",
      "  8   0.99990(49)     0.99999(16)         1.79     0.08\n",
      "  9   0.99979(36)     0.99995(15)         1.60     0.12\n",
      " 10   1.00022(43)     0.99998(14)         1.46     0.16\n",
      "\n"
     ]
    }
   ],
   "source": [
    "m = vegas.AdaptiveMap([[-10, 10]], ninc=5)\n",
    "\n",
    "ny = 1000\n",
    "z = np.random.normal(0, 0.0001, (ny,1))\n",
    "y = np.array([(a + 10) / 20 for a in z])\n",
    "\n",
    "x = np.zeros(y.shape, float)            # work space\n",
    "jac = np.empty(y.shape[0], float)\n",
    "f2 = np.empty(y.shape[0], float)\n",
    "\n",
    "print('intial grid:')\n",
    "print(m.settings())\n",
    "\n",
    "for itn in range(5):                    # 5 iterations to adapt\n",
    "   m.map(y, x, jac)                     # compute x's and jac\n",
    "\n",
    "   for j in range(ny):                  # compute training data\n",
    "      f2[j] = (jac[j] * f(x[j])) ** 2\n",
    "\n",
    "   m.add_training_data(y, f2)           # adapt\n",
    "   m.adapt(alpha=1.5)\n",
    "\n",
    "   print('iteration %d:' % itn)\n",
    "   print(m.settings())\n",
    "\n",
    "integ = vegas.Integrator(m)\n",
    "\n",
    "result = integ(f, nitn=10, neval=1000)\n",
    "print(result.summary())"
   ]
  },
  {
   "cell_type": "markdown",
   "metadata": {},
   "source": [
    "## Bimodal Gaussian"
   ]
  },
  {
   "cell_type": "markdown",
   "metadata": {},
   "source": [
    "First using uniform samples."
   ]
  },
  {
   "cell_type": "code",
   "execution_count": 115,
   "metadata": {},
   "outputs": [
    {
     "name": "stdout",
     "output_type": "stream",
     "text": [
      "intial grid:\n",
      "    grid[ 0] = [-10.  -4.   2.   8.  14.  20.]\n",
      "    grid[ 1] = [-10.  -4.   2.   8.  14.  20.]\n",
      "\n",
      "iteration 0:\n",
      "    grid[ 0] = [-10.     -5.406  -2.41   -0.118   2.498  20.   ]\n",
      "    grid[ 1] = [-10.     -5.438  -2.442  -0.166   2.316  20.   ]\n",
      "\n",
      "iteration 1:\n",
      "    grid[ 0] = [-10.     -2.02   -0.659   0.788   2.292  20.   ]\n",
      "    grid[ 1] = [-10.     -1.959  -0.478   0.895   2.239  20.   ]\n",
      "\n",
      "iteration 2:\n",
      "    grid[ 0] = [-10.     -1.322  -0.298   0.419   1.512  20.   ]\n",
      "    grid[ 1] = [-10.     -1.454  -0.325   0.395   1.355  20.   ]\n",
      "\n",
      "iteration 3:\n",
      "    grid[ 0] = [-1.000e+01 -9.740e-01 -4.996e-03  7.434e-01  2.266e+00\n",
      "                 2.000e+01]\n",
      "    grid[ 1] = [-10.     -1.198  -0.242   0.388   2.189  20.   ]\n",
      "\n",
      "iteration 4:\n",
      "    grid[ 0] = [-10.     -2.197  -0.326   0.395   1.529  20.   ]\n",
      "    grid[ 1] = [-10.     -1.239  -0.361   0.272   1.64   20.   ]\n",
      "\n",
      "itn   integral        wgt average     chi2/dof        Q\n",
      "-------------------------------------------------------\n",
      "  1   0.519(23)       0.519(23)           0.00     1.00\n",
      "  2   0.493(12)       0.499(11)           0.98     0.32\n",
      "  3   0.5026(87)      0.5012(68)          0.52     0.59\n",
      "  4   0.4997(72)      0.5005(49)          0.36     0.78\n",
      "  5   0.5001(59)      0.5003(38)          0.27     0.90\n",
      "  6   0.5001(47)      0.5002(30)          0.22     0.96\n",
      "  7   0.4971(36)      0.4990(23)          0.25     0.96\n",
      "  8   0.4975(40)      0.4986(20)          0.23     0.98\n",
      "  9   0.5020(41)      0.4993(18)          0.27     0.98\n",
      " 10   0.4980(40)      0.4991(16)          0.25     0.99\n",
      "\n"
     ]
    }
   ],
   "source": [
    "def f(x):\n",
    "   return 0.5 * (scipy.stats.norm.pdf(x[0], 0, 1) * scipy.stats.norm.pdf(x[1], 0, 1) +\n",
    "                 scipy.stats.norm.pdf(x[0], 5, 0.05) * scipy.stats.norm.pdf(x[1], 5, 0.05))\n",
    "\n",
    "m = vegas.AdaptiveMap([[-10, 20],[-10, 20]], ninc=5)\n",
    "\n",
    "ny = 1000\n",
    "y = np.random.uniform(0., 1., (ny,2))  # 1000 random y's\n",
    "\n",
    "x = np.empty(y.shape, float)            # work space\n",
    "jac = np.empty(y.shape[0], float)\n",
    "f2 = np.empty(y.shape[0], float)\n",
    "\n",
    "print('intial grid:')\n",
    "print(m.settings())\n",
    "\n",
    "for itn in range(5):                    # 5 iterations to adapt\n",
    "   m.map(y, x, jac)                     # compute x's and jac\n",
    "\n",
    "   for j in range(ny):                  # compute training data\n",
    "      f2[j] = (jac[j] * f(x[j])) ** 2\n",
    "\n",
    "   m.add_training_data(y, f2)           # adapt\n",
    "   m.adapt(alpha=1.5)\n",
    "\n",
    "   print('iteration %d:' % itn)\n",
    "   print(m.settings())\n",
    "\n",
    "integ = vegas.Integrator(m)\n",
    "\n",
    "result = integ(f, nitn=10, neval=1000)\n",
    "print(result.summary())"
   ]
  },
  {
   "cell_type": "markdown",
   "metadata": {},
   "source": [
    "Method to sample from each mode."
   ]
  },
  {
   "cell_type": "code",
   "execution_count": 116,
   "metadata": {
    "collapsed": true
   },
   "outputs": [],
   "source": [
    "def sampler():\n",
    "    if np.random.rand() > 0.5:\n",
    "        return np.random.normal(0, 1, (2, 1))\n",
    "    else:\n",
    "        return np.random.normal(5, 0.05, (2, 1))"
   ]
  },
  {
   "cell_type": "markdown",
   "metadata": {},
   "source": [
    "Use independent samples."
   ]
  },
  {
   "cell_type": "code",
   "execution_count": 117,
   "metadata": {},
   "outputs": [
    {
     "name": "stdout",
     "output_type": "stream",
     "text": [
      "intial grid:\n",
      "    grid[ 0] = [-10.  -4.   2.   8.  14.  20.]\n",
      "    grid[ 1] = [-10.  -4.   2.   8.  14.  20.]\n",
      "\n",
      "iteration 0:\n",
      "    grid[ 0] = [-10.      1.601   3.905   5.944   7.983  20.   ]\n",
      "    grid[ 1] = [-10.      1.601   3.905   5.944   7.983  20.   ]\n",
      "\n",
      "iteration 1:\n",
      "    grid[ 0] = [-10.      3.833   4.57    5.257   5.945  20.   ]\n",
      "    grid[ 1] = [-10.      3.833   4.57    5.257   5.945  20.   ]\n",
      "\n",
      "iteration 2:\n",
      "    grid[ 0] = [-10.      4.558   4.797   5.028   5.26   20.   ]\n",
      "    grid[ 1] = [-10.      4.558   4.797   5.028   5.26   20.   ]\n",
      "\n",
      "iteration 3:\n",
      "    grid[ 0] = [-10.      4.792   4.873   4.95    5.028  20.   ]\n",
      "    grid[ 1] = [-10.      4.792   4.873   4.95    5.028  20.   ]\n",
      "\n",
      "iteration 4:\n",
      "    grid[ 0] = [-10.      4.867   4.897   4.924   4.95   20.   ]\n",
      "    grid[ 1] = [-10.      4.867   4.897   4.924   4.95   20.   ]\n",
      "\n",
      "itn   integral        wgt average     chi2/dof        Q\n",
      "-------------------------------------------------------\n",
      "  1   0.60(36)        0.60(36)            0.00     1.00\n",
      "  2   0.68(13)        0.67(13)            0.04     0.85\n",
      "  3   7.6(7.1)        0.67(12)            0.50     0.61\n",
      "  4   1.60(55)        0.72(12)            1.24     0.29\n",
      "  5   0.981(28)       0.968(27)           2.04     0.09\n",
      "  6   1.024(36)       0.988(22)           1.94     0.08\n",
      "  7   0.995(16)       0.993(13)           1.63     0.13\n",
      "  8   1.000(18)       0.995(10)           1.41     0.19\n",
      "  9   1.010(17)       0.9992(89)          1.30     0.24\n",
      " 10   0.981(12)       0.9931(72)          1.31     0.23\n",
      "\n"
     ]
    }
   ],
   "source": [
    "m = vegas.AdaptiveMap([[-10, 20],[-10, 20]], ninc=5)\n",
    "\n",
    "ny = 1000\n",
    "z = [sampler() for i in range(ny)]\n",
    "\n",
    "# transform to be in unit cube\n",
    "y = np.squeeze(np.array([(a + 10) / 30 for a in z]))\n",
    "\n",
    "x = np.empty(y.shape, float)            # work space\n",
    "jac = np.empty(y.shape[0], float)\n",
    "f2 = np.empty(y.shape[0], float)\n",
    "\n",
    "print('intial grid:')\n",
    "print(m.settings())\n",
    "\n",
    "for itn in range(5):                    # 5 iterations to adapt\n",
    "   m.map(y, x, jac)                     # compute x's and jac\n",
    "\n",
    "   for j in range(ny):                  # compute training data\n",
    "      f2[j] = (jac[j] * f(x[j])) ** 2\n",
    "\n",
    "   m.add_training_data(y, f2)           # adapt\n",
    "   m.adapt(alpha=1.5)\n",
    "\n",
    "   print('iteration %d:' % itn)\n",
    "   print(m.settings())\n",
    "\n",
    "integ = vegas.Integrator(m)\n",
    "\n",
    "result = integ(f, nitn=10, neval=1000)\n",
    "print(result.summary())"
   ]
  },
  {
   "cell_type": "markdown",
   "metadata": {},
   "source": [
    "Plot samples to check they look sensible."
   ]
  },
  {
   "cell_type": "code",
   "execution_count": 118,
   "metadata": {},
   "outputs": [
    {
     "data": {
      "image/png": "[encoded data removed]",
      "text/plain": [
       "<Figure size 432x288 with 1 Axes>"
      ]
     },
     "metadata": {
      "needs_background": "light"
     },
     "output_type": "display_data"
    }
   ],
   "source": [
    "import matplotlib.pyplot as plt\n",
    "plt.scatter(y[:, 0], y[:, 1])\n",
    "plt.show()"
   ]
  }
 ],
 "metadata": {
  "kernelspec": {
   "display_name": "Python 3",
   "language": "python",
   "name": "python3"
  },
  "language_info": {
   "codemirror_mode": {
    "name": "ipython",
    "version": 3
   },
   "file_extension": ".py",
   "mimetype": "text/x-python",
   "name": "python",
   "nbconvert_exporter": "python",
   "pygments_lexer": "ipython3",
   "version": "3.7.7"
  }
 },
 "nbformat": 4,
 "nbformat_minor": 2
}
